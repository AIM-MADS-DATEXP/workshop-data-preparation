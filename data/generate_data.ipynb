{
 "cells": [
  {
   "cell_type": "markdown",
   "metadata": {},
   "source": [
    "# Generating example data\n",
    "\n",
    "This notebook contains code for generating example data to be used in the data preparation workshop."
   ]
  },
  {
   "cell_type": "code",
   "execution_count": 58,
   "metadata": {},
   "outputs": [],
   "source": [
    "import pandas as pd\n",
    "import random\n",
    "import numpy as np\n",
    "import matplotlib.pyplot as plt"
   ]
  },
  {
   "cell_type": "markdown",
   "metadata": {},
   "source": [
    "## Titanic\n",
    "\n",
    "Modify titanic data to add duplicates and create some garbage values.\n",
    "\n",
    "The titanic data set is known to have NaN values in the Age and Cabin column (and two in \"Embarked\")."
   ]
  },
  {
   "cell_type": "code",
   "execution_count": 59,
   "metadata": {},
   "outputs": [],
   "source": [
    "dft = pd.read_csv(\"orig/titanic.csv\")\n",
    "\n",
    "# Duplicate 1/6 of the original rows\n",
    "dups = dft.sample(int(len(dft) / 6))\n",
    "dft_inc_dups = pd.concat([dft, dups])\n",
    "# Duplicate 1/6 of the duplicate rows\n",
    "dups = dups.sample(int(len(dups) / 6))\n",
    "dft_inc_dups = pd.concat([dft_inc_dups, dups])\n",
    "\n",
    "# Set some instances of the \"Sex\" column to a value that is an obvious typo\n",
    "dft_random_sample = dft_inc_dups.loc[dft.sample(int(len(dft_inc_dups)/ 40)).index]\n",
    "dft_inc_dups.loc[dft_random_sample.index, 'Sex'] = 'fmale'\n",
    "\n",
    "# Set some other instances of the \"Sex\" column to something that is absolute garbage.\n",
    "dft_random_sample = dft_inc_dups.loc[dft.sample(int(len(dft_inc_dups)/ 50)).index]\n",
    "dft_inc_dups.loc[dft_random_sample.index, 'Sex'] = 'caprio'\n",
    "\n",
    "# Set some instances of the \"Age\" column to an obviously nonsensical value.\n",
    "dft_random_sample = dft_inc_dups.loc[dft.sample(int(len(dft_inc_dups)/ 100)).index]\n",
    "dft_inc_dups.loc[dft_random_sample.index, 'Age'] = random.randint(99, 140)\n",
    "\n",
    "\n",
    "dft_inc_dups.sample(len(dft_inc_dups)).to_csv(\"titanic_processed.csv\", index=False)"
   ]
  }
 ],
 "metadata": {
  "kernelspec": {
   "display_name": ".venv",
   "language": "python",
   "name": "python3"
  },
  "language_info": {
   "codemirror_mode": {
    "name": "ipython",
    "version": 3
   },
   "file_extension": ".py",
   "mimetype": "text/x-python",
   "name": "python",
   "nbconvert_exporter": "python",
   "pygments_lexer": "ipython3",
   "version": "3.13.2"
  }
 },
 "nbformat": 4,
 "nbformat_minor": 2
}
