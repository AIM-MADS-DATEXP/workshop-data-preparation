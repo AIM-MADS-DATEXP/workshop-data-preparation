{
 "cells": [
  {
   "cell_type": "markdown",
   "metadata": {},
   "source": [
    "# Data preparation and cleaning"
   ]
  },
  {
   "cell_type": "code",
   "execution_count": 29,
   "metadata": {},
   "outputs": [],
   "source": [
    "# Imports\n",
    "import pandas as pd\n",
    "from pandas.api.types import is_numeric_dtype\n",
    "import numpy as np\n",
    "import matplotlib.pyplot as plt"
   ]
  },
  {
   "cell_type": "markdown",
   "metadata": {},
   "source": [
    "## Detecting problems"
   ]
  },
  {
   "cell_type": "code",
   "execution_count": 25,
   "metadata": {},
   "outputs": [
    {
     "data": {
      "text/html": [
       "<div>\n",
       "<style scoped>\n",
       "    .dataframe tbody tr th:only-of-type {\n",
       "        vertical-align: middle;\n",
       "    }\n",
       "\n",
       "    .dataframe tbody tr th {\n",
       "        vertical-align: top;\n",
       "    }\n",
       "\n",
       "    .dataframe thead th {\n",
       "        text-align: right;\n",
       "    }\n",
       "</style>\n",
       "<table border=\"1\" class=\"dataframe\">\n",
       "  <thead>\n",
       "    <tr style=\"text-align: right;\">\n",
       "      <th></th>\n",
       "      <th>PassengerId</th>\n",
       "      <th>Survived</th>\n",
       "      <th>Pclass</th>\n",
       "      <th>Age</th>\n",
       "      <th>SibSp</th>\n",
       "      <th>Parch</th>\n",
       "      <th>Fare</th>\n",
       "    </tr>\n",
       "  </thead>\n",
       "  <tbody>\n",
       "    <tr>\n",
       "      <th>count</th>\n",
       "      <td>1063.000000</td>\n",
       "      <td>1063.000000</td>\n",
       "      <td>1063.000000</td>\n",
       "      <td>863.000000</td>\n",
       "      <td>1063.000000</td>\n",
       "      <td>1063.000000</td>\n",
       "      <td>1063.000000</td>\n",
       "    </tr>\n",
       "    <tr>\n",
       "      <th>mean</th>\n",
       "      <td>445.687676</td>\n",
       "      <td>0.394167</td>\n",
       "      <td>2.301976</td>\n",
       "      <td>30.746419</td>\n",
       "      <td>0.521167</td>\n",
       "      <td>0.398871</td>\n",
       "      <td>32.455538</td>\n",
       "    </tr>\n",
       "    <tr>\n",
       "      <th>std</th>\n",
       "      <td>256.715401</td>\n",
       "      <td>0.488901</td>\n",
       "      <td>0.834782</td>\n",
       "      <td>17.174277</td>\n",
       "      <td>1.100109</td>\n",
       "      <td>0.808895</td>\n",
       "      <td>50.118943</td>\n",
       "    </tr>\n",
       "    <tr>\n",
       "      <th>min</th>\n",
       "      <td>1.000000</td>\n",
       "      <td>0.000000</td>\n",
       "      <td>1.000000</td>\n",
       "      <td>0.420000</td>\n",
       "      <td>0.000000</td>\n",
       "      <td>0.000000</td>\n",
       "      <td>0.000000</td>\n",
       "    </tr>\n",
       "    <tr>\n",
       "      <th>25%</th>\n",
       "      <td>222.000000</td>\n",
       "      <td>0.000000</td>\n",
       "      <td>2.000000</td>\n",
       "      <td>20.000000</td>\n",
       "      <td>0.000000</td>\n",
       "      <td>0.000000</td>\n",
       "      <td>7.925000</td>\n",
       "    </tr>\n",
       "    <tr>\n",
       "      <th>50%</th>\n",
       "      <td>446.000000</td>\n",
       "      <td>0.000000</td>\n",
       "      <td>3.000000</td>\n",
       "      <td>28.000000</td>\n",
       "      <td>0.000000</td>\n",
       "      <td>0.000000</td>\n",
       "      <td>14.500000</td>\n",
       "    </tr>\n",
       "    <tr>\n",
       "      <th>75%</th>\n",
       "      <td>665.500000</td>\n",
       "      <td>1.000000</td>\n",
       "      <td>3.000000</td>\n",
       "      <td>39.000000</td>\n",
       "      <td>1.000000</td>\n",
       "      <td>1.000000</td>\n",
       "      <td>31.275000</td>\n",
       "    </tr>\n",
       "    <tr>\n",
       "      <th>max</th>\n",
       "      <td>891.000000</td>\n",
       "      <td>1.000000</td>\n",
       "      <td>3.000000</td>\n",
       "      <td>107.000000</td>\n",
       "      <td>8.000000</td>\n",
       "      <td>6.000000</td>\n",
       "      <td>512.329200</td>\n",
       "    </tr>\n",
       "  </tbody>\n",
       "</table>\n",
       "</div>"
      ],
      "text/plain": [
       "       PassengerId     Survived       Pclass         Age        SibSp  \\\n",
       "count  1063.000000  1063.000000  1063.000000  863.000000  1063.000000   \n",
       "mean    445.687676     0.394167     2.301976   30.746419     0.521167   \n",
       "std     256.715401     0.488901     0.834782   17.174277     1.100109   \n",
       "min       1.000000     0.000000     1.000000    0.420000     0.000000   \n",
       "25%     222.000000     0.000000     2.000000   20.000000     0.000000   \n",
       "50%     446.000000     0.000000     3.000000   28.000000     0.000000   \n",
       "75%     665.500000     1.000000     3.000000   39.000000     1.000000   \n",
       "max     891.000000     1.000000     3.000000  107.000000     8.000000   \n",
       "\n",
       "             Parch         Fare  \n",
       "count  1063.000000  1063.000000  \n",
       "mean      0.398871    32.455538  \n",
       "std       0.808895    50.118943  \n",
       "min       0.000000     0.000000  \n",
       "25%       0.000000     7.925000  \n",
       "50%       0.000000    14.500000  \n",
       "75%       1.000000    31.275000  \n",
       "max       6.000000   512.329200  "
      ]
     },
     "execution_count": 25,
     "metadata": {},
     "output_type": "execute_result"
    }
   ],
   "source": [
    "dft = pd.read_csv(\"data/titanic_processed.csv\")\n",
    "dft.describe()"
   ]
  },
  {
   "cell_type": "markdown",
   "metadata": {},
   "source": [
    "### Empty values\n",
    "\n",
    "The first and most obvious thing to check is whether there are empty values in the data.\n"
   ]
  },
  {
   "cell_type": "code",
   "execution_count": null,
   "metadata": {},
   "outputs": [
    {
     "name": "stdout",
     "output_type": "stream",
     "text": [
      "Column PassengerId  has    0 NaN values\n",
      "Column Survived     has    0 NaN values\n",
      "Column Pclass       has    0 NaN values\n",
      "Column Name         has    0 NaN values\n",
      "Column Sex          has    0 NaN values\n",
      "Column Age          has  205 NaN values\n",
      "Column SibSp        has    0 NaN values\n",
      "Column Parch        has    0 NaN values\n",
      "Column Ticket       has    0 NaN values\n",
      "Column Fare         has    0 NaN values\n",
      "Column Cabin        has  826 NaN values\n",
      "Column Embarked     has    2 NaN values\n"
     ]
    }
   ],
   "source": [
    "for col in dft.columns:\n",
    "    print(f'Column {col: <12} has {dft[col].isna().sum(): 4d} NaN values')\n"
   ]
  },
  {
   "cell_type": "markdown",
   "metadata": {},
   "source": [
    "### Duplicates\n",
    "\n",
    "Records have an unpleasant tendency to be duplicated. Luckily Pandas can help detect this.\n"
   ]
  },
  {
   "cell_type": "code",
   "execution_count": 24,
   "metadata": {},
   "outputs": [
    {
     "name": "stdout",
     "output_type": "stream",
     "text": [
      "Number of duplicates is 172\n"
     ]
    }
   ],
   "source": [
    "print(f'Number of duplicates is {dft.duplicated( keep='first').sum()}')"
   ]
  },
  {
   "cell_type": "markdown",
   "metadata": {},
   "source": [
    "### Nonsensical values\n",
    "\n",
    "Let's check each column to see if the values make sense.\n",
    "\n",
    "For numerical columns we do this by checking the range of values while for text columns we list the unique values.\n",
    "\n",
    "This data set has one column for which this is impossible: we likely have no way of determining whether a value in the \"Name\" column is plausible or not. The same is true for the \"Ticket\" column which holds the ticket number and for the \"Cabin\" column which holds the cabin number."
   ]
  },
  {
   "cell_type": "code",
   "execution_count": 35,
   "metadata": {},
   "outputs": [
    {
     "name": "stdout",
     "output_type": "stream",
     "text": [
      "Column \"PassengerId\" has range 1 - 891\n",
      "Column \"Survived\" has range 0 - 1\n",
      "Column \"Pclass\" has range 1 - 3\n",
      "Column Sex has values ['female' 'male' 'fmale' 'caprio'] \n",
      "Column \"Age\" has range 0.42 - 107.0\n",
      "Column \"SibSp\" has range 0 - 8\n",
      "Column \"Parch\" has range 0 - 6\n",
      "Column \"Fare\" has range 0.0 - 512.3292\n",
      "Column Embarked has values ['S' 'Q' 'C' nan] \n"
     ]
    }
   ],
   "source": [
    "columns_to_skip = ['Name', 'Ticket', 'Cabin']\n",
    "for col in dft.columns:\n",
    "    if col in columns_to_skip:\n",
    "        continue\n",
    "    if is_numeric_dtype(dft[col]):\n",
    "        print(f'Column \"{col}\" has range {dft[col].min()} - {dft[col].max()}')\n",
    "    else:\n",
    "        print(f'Column {col} has values {dft[col].unique()} ')"
   ]
  },
  {
   "cell_type": "markdown",
   "metadata": {},
   "source": [
    "## Fixing problems"
   ]
  },
  {
   "cell_type": "markdown",
   "metadata": {},
   "source": [
    "### Duplicates"
   ]
  }
 ],
 "metadata": {
  "kernelspec": {
   "display_name": ".venv",
   "language": "python",
   "name": "python3"
  },
  "language_info": {
   "codemirror_mode": {
    "name": "ipython",
    "version": 3
   },
   "file_extension": ".py",
   "mimetype": "text/x-python",
   "name": "python",
   "nbconvert_exporter": "python",
   "pygments_lexer": "ipython3",
   "version": "3.13.2"
  }
 },
 "nbformat": 4,
 "nbformat_minor": 2
}
